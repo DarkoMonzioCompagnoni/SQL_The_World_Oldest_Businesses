{
 "cells": [
  {
   "cell_type": "markdown",
   "id": "d21a01af",
   "metadata": {
    "papermill": {
     "duration": 0.011792,
     "end_time": "2022-02-10T10:31:16.039381",
     "exception": false,
     "start_time": "2022-02-10T10:31:16.027589",
     "status": "completed"
    },
    "tags": []
   },
   "source": [
    "# Introduction\n",
    "\n",
    "[BusinessFinancing.co.uk](https://businessfinancing.co.uk/the-oldest-company-in-almost-every-country/) researched the oldest company that is still in business in almost every country and compiled the results into a dataset. Our datasets contain the following information:\n",
    "1. **businesses.csv**\n",
    "2. **new_businesses.csv**\n",
    "3. **categories.csv**\n",
    "4. **countries.csv**\n",
    "\n",
    "To better understand these historic businesses. We would like to know what characteristics enable a business to stand the test of time?\n",
    "\n",
    "Now let's inspect the data before moving on."
   ]
  },
  {
   "cell_type": "code",
   "execution_count": 1,
   "id": "cc03d3d4",
   "metadata": {
    "execution": {
     "iopub.execute_input": "2022-02-10T10:31:16.065389Z",
     "iopub.status.busy": "2022-02-10T10:31:16.064049Z",
     "iopub.status.idle": "2022-02-10T10:31:16.130214Z",
     "shell.execute_reply": "2022-02-10T10:31:16.130628Z",
     "shell.execute_reply.started": "2022-02-10T09:27:17.525044Z"
    },
    "papermill": {
     "duration": 0.080654,
     "end_time": "2022-02-10T10:31:16.130899",
     "exception": false,
     "start_time": "2022-02-10T10:31:16.050245",
     "status": "completed"
    },
    "tags": []
   },
   "outputs": [
    {
     "data": {
      "text/html": [
       "<div>\n",
       "<style scoped>\n",
       "    .dataframe tbody tr th:only-of-type {\n",
       "        vertical-align: middle;\n",
       "    }\n",
       "\n",
       "    .dataframe tbody tr th {\n",
       "        vertical-align: top;\n",
       "    }\n",
       "\n",
       "    .dataframe thead th {\n",
       "        text-align: right;\n",
       "    }\n",
       "</style>\n",
       "<table border=\"1\" class=\"dataframe\">\n",
       "  <thead>\n",
       "    <tr style=\"text-align: right;\">\n",
       "      <th></th>\n",
       "      <th>business</th>\n",
       "      <th>year_founded</th>\n",
       "      <th>category_code</th>\n",
       "      <th>country_code</th>\n",
       "    </tr>\n",
       "  </thead>\n",
       "  <tbody>\n",
       "    <tr>\n",
       "      <th>0</th>\n",
       "      <td>Hamoud Boualem</td>\n",
       "      <td>1878</td>\n",
       "      <td>CAT11</td>\n",
       "      <td>DZA</td>\n",
       "    </tr>\n",
       "    <tr>\n",
       "      <th>1</th>\n",
       "      <td>Communauté Électrique du Bénin</td>\n",
       "      <td>1968</td>\n",
       "      <td>CAT10</td>\n",
       "      <td>BEN</td>\n",
       "    </tr>\n",
       "    <tr>\n",
       "      <th>2</th>\n",
       "      <td>Botswana Meat Commission</td>\n",
       "      <td>1965</td>\n",
       "      <td>CAT1</td>\n",
       "      <td>BWA</td>\n",
       "    </tr>\n",
       "    <tr>\n",
       "      <th>3</th>\n",
       "      <td>Air Burkina</td>\n",
       "      <td>1967</td>\n",
       "      <td>CAT2</td>\n",
       "      <td>BFA</td>\n",
       "    </tr>\n",
       "    <tr>\n",
       "      <th>4</th>\n",
       "      <td>Brarudi</td>\n",
       "      <td>1955</td>\n",
       "      <td>CAT9</td>\n",
       "      <td>BDI</td>\n",
       "    </tr>\n",
       "  </tbody>\n",
       "</table>\n",
       "</div>"
      ],
      "text/plain": [
       "                         business  year_founded category_code country_code\n",
       "0                  Hamoud Boualem          1878         CAT11          DZA\n",
       "1  Communauté Électrique du Bénin          1968         CAT10          BEN\n",
       "2        Botswana Meat Commission          1965          CAT1          BWA\n",
       "3                     Air Burkina          1967          CAT2          BFA\n",
       "4                         Brarudi          1955          CAT9          BDI"
      ]
     },
     "metadata": {},
     "output_type": "display_data"
    },
    {
     "data": {
      "text/html": [
       "<div>\n",
       "<style scoped>\n",
       "    .dataframe tbody tr th:only-of-type {\n",
       "        vertical-align: middle;\n",
       "    }\n",
       "\n",
       "    .dataframe tbody tr th {\n",
       "        vertical-align: top;\n",
       "    }\n",
       "\n",
       "    .dataframe thead th {\n",
       "        text-align: right;\n",
       "    }\n",
       "</style>\n",
       "<table border=\"1\" class=\"dataframe\">\n",
       "  <thead>\n",
       "    <tr style=\"text-align: right;\">\n",
       "      <th></th>\n",
       "      <th>business</th>\n",
       "      <th>year_founded</th>\n",
       "      <th>category_code</th>\n",
       "      <th>country_code</th>\n",
       "    </tr>\n",
       "  </thead>\n",
       "  <tbody>\n",
       "    <tr>\n",
       "      <th>0</th>\n",
       "      <td>Fiji Times</td>\n",
       "      <td>1869</td>\n",
       "      <td>CAT13</td>\n",
       "      <td>FJI</td>\n",
       "    </tr>\n",
       "    <tr>\n",
       "      <th>1</th>\n",
       "      <td>J. Armando Bermúdez &amp; Co.</td>\n",
       "      <td>1852</td>\n",
       "      <td>CAT9</td>\n",
       "      <td>DOM</td>\n",
       "    </tr>\n",
       "  </tbody>\n",
       "</table>\n",
       "</div>"
      ],
      "text/plain": [
       "                    business  year_founded category_code country_code\n",
       "0                 Fiji Times          1869         CAT13          FJI\n",
       "1  J. Armando Bermúdez & Co.          1852          CAT9          DOM"
      ]
     },
     "metadata": {},
     "output_type": "display_data"
    },
    {
     "data": {
      "text/html": [
       "<div>\n",
       "<style scoped>\n",
       "    .dataframe tbody tr th:only-of-type {\n",
       "        vertical-align: middle;\n",
       "    }\n",
       "\n",
       "    .dataframe tbody tr th {\n",
       "        vertical-align: top;\n",
       "    }\n",
       "\n",
       "    .dataframe thead th {\n",
       "        text-align: right;\n",
       "    }\n",
       "</style>\n",
       "<table border=\"1\" class=\"dataframe\">\n",
       "  <thead>\n",
       "    <tr style=\"text-align: right;\">\n",
       "      <th></th>\n",
       "      <th>country_code</th>\n",
       "      <th>country</th>\n",
       "      <th>continent</th>\n",
       "    </tr>\n",
       "  </thead>\n",
       "  <tbody>\n",
       "    <tr>\n",
       "      <th>0</th>\n",
       "      <td>AFG</td>\n",
       "      <td>Afghanistan</td>\n",
       "      <td>Asia</td>\n",
       "    </tr>\n",
       "    <tr>\n",
       "      <th>1</th>\n",
       "      <td>AGO</td>\n",
       "      <td>Angola</td>\n",
       "      <td>Africa</td>\n",
       "    </tr>\n",
       "    <tr>\n",
       "      <th>2</th>\n",
       "      <td>ALB</td>\n",
       "      <td>Albania</td>\n",
       "      <td>Europe</td>\n",
       "    </tr>\n",
       "    <tr>\n",
       "      <th>3</th>\n",
       "      <td>AND</td>\n",
       "      <td>Andorra</td>\n",
       "      <td>Europe</td>\n",
       "    </tr>\n",
       "    <tr>\n",
       "      <th>4</th>\n",
       "      <td>ARE</td>\n",
       "      <td>United Arab Emirates</td>\n",
       "      <td>Asia</td>\n",
       "    </tr>\n",
       "  </tbody>\n",
       "</table>\n",
       "</div>"
      ],
      "text/plain": [
       "  country_code               country continent\n",
       "0          AFG           Afghanistan      Asia\n",
       "1          AGO                Angola    Africa\n",
       "2          ALB               Albania    Europe\n",
       "3          AND               Andorra    Europe\n",
       "4          ARE  United Arab Emirates      Asia"
      ]
     },
     "metadata": {},
     "output_type": "display_data"
    },
    {
     "data": {
      "text/html": [
       "<div>\n",
       "<style scoped>\n",
       "    .dataframe tbody tr th:only-of-type {\n",
       "        vertical-align: middle;\n",
       "    }\n",
       "\n",
       "    .dataframe tbody tr th {\n",
       "        vertical-align: top;\n",
       "    }\n",
       "\n",
       "    .dataframe thead th {\n",
       "        text-align: right;\n",
       "    }\n",
       "</style>\n",
       "<table border=\"1\" class=\"dataframe\">\n",
       "  <thead>\n",
       "    <tr style=\"text-align: right;\">\n",
       "      <th></th>\n",
       "      <th>category_code</th>\n",
       "      <th>category</th>\n",
       "    </tr>\n",
       "  </thead>\n",
       "  <tbody>\n",
       "    <tr>\n",
       "      <th>0</th>\n",
       "      <td>CAT1</td>\n",
       "      <td>Agriculture</td>\n",
       "    </tr>\n",
       "    <tr>\n",
       "      <th>1</th>\n",
       "      <td>CAT2</td>\n",
       "      <td>Aviation &amp; Transport</td>\n",
       "    </tr>\n",
       "    <tr>\n",
       "      <th>2</th>\n",
       "      <td>CAT3</td>\n",
       "      <td>Banking &amp; Finance</td>\n",
       "    </tr>\n",
       "    <tr>\n",
       "      <th>3</th>\n",
       "      <td>CAT4</td>\n",
       "      <td>Cafés, Restaurants &amp; Bars</td>\n",
       "    </tr>\n",
       "    <tr>\n",
       "      <th>4</th>\n",
       "      <td>CAT5</td>\n",
       "      <td>Conglomerate</td>\n",
       "    </tr>\n",
       "  </tbody>\n",
       "</table>\n",
       "</div>"
      ],
      "text/plain": [
       "  category_code                   category\n",
       "0          CAT1                Agriculture\n",
       "1          CAT2       Aviation & Transport\n",
       "2          CAT3          Banking & Finance\n",
       "3          CAT4  Cafés, Restaurants & Bars\n",
       "4          CAT5               Conglomerate"
      ]
     },
     "metadata": {},
     "output_type": "display_data"
    }
   ],
   "source": [
    "# Import the pandas library under its usual alias \n",
    "import pandas as pd\n",
    "\n",
    "# Read and display all data\n",
    "businesses = pd.read_csv('../input/oldest-businesses/businesses.csv')\n",
    "new_businesses = pd.read_csv('../input/oldest-businesses/new_businesses.csv')\n",
    "countries = pd.read_csv('../input/oldest-businesses/countries.csv')\n",
    "categories = pd.read_csv('../input/oldest-businesses/categories.csv')\n",
    "\n",
    "display(businesses.head(), new_businesses.head(), countries.head(), categories.head())"
   ]
  },
  {
   "cell_type": "markdown",
   "id": "d573016f",
   "metadata": {
    "papermill": {
     "duration": 0.011954,
     "end_time": "2022-02-10T10:31:16.155846",
     "exception": false,
     "start_time": "2022-02-10T10:31:16.143892",
     "status": "completed"
    },
    "tags": []
   },
   "source": [
    "# 1. Concatenate & Sort for Oldest Businesses\n",
    "\n",
    "There are 2 data for businesses and we want to combine both into 1 DataFrame in order for us to have a comprehensive data to analyze in the future. Then, we will sort to find the oldest businesses."
   ]
  },
  {
   "cell_type": "code",
   "execution_count": 2,
   "id": "6080985e",
   "metadata": {
    "execution": {
     "iopub.execute_input": "2022-02-10T10:31:16.191577Z",
     "iopub.status.busy": "2022-02-10T10:31:16.191115Z",
     "iopub.status.idle": "2022-02-10T10:31:16.199690Z",
     "shell.execute_reply": "2022-02-10T10:31:16.200150Z",
     "shell.execute_reply.started": "2022-02-10T10:01:46.833327Z"
    },
    "papermill": {
     "duration": 0.032099,
     "end_time": "2022-02-10T10:31:16.200280",
     "exception": false,
     "start_time": "2022-02-10T10:31:16.168181",
     "status": "completed"
    },
    "tags": []
   },
   "outputs": [
    {
     "data": {
      "text/html": [
       "<div>\n",
       "<style scoped>\n",
       "    .dataframe tbody tr th:only-of-type {\n",
       "        vertical-align: middle;\n",
       "    }\n",
       "\n",
       "    .dataframe tbody tr th {\n",
       "        vertical-align: top;\n",
       "    }\n",
       "\n",
       "    .dataframe thead th {\n",
       "        text-align: right;\n",
       "    }\n",
       "</style>\n",
       "<table border=\"1\" class=\"dataframe\">\n",
       "  <thead>\n",
       "    <tr style=\"text-align: right;\">\n",
       "      <th></th>\n",
       "      <th>business</th>\n",
       "      <th>year_founded</th>\n",
       "      <th>category_code</th>\n",
       "      <th>country_code</th>\n",
       "    </tr>\n",
       "  </thead>\n",
       "  <tbody>\n",
       "    <tr>\n",
       "      <th>64</th>\n",
       "      <td>Kongō Gumi</td>\n",
       "      <td>578</td>\n",
       "      <td>CAT6</td>\n",
       "      <td>JPN</td>\n",
       "    </tr>\n",
       "    <tr>\n",
       "      <th>94</th>\n",
       "      <td>St. Peter Stifts Kulinarium</td>\n",
       "      <td>803</td>\n",
       "      <td>CAT4</td>\n",
       "      <td>AUT</td>\n",
       "    </tr>\n",
       "    <tr>\n",
       "      <th>107</th>\n",
       "      <td>Staffelter Hof Winery</td>\n",
       "      <td>862</td>\n",
       "      <td>CAT9</td>\n",
       "      <td>DEU</td>\n",
       "    </tr>\n",
       "    <tr>\n",
       "      <th>106</th>\n",
       "      <td>Monnaie de Paris</td>\n",
       "      <td>864</td>\n",
       "      <td>CAT12</td>\n",
       "      <td>FRA</td>\n",
       "    </tr>\n",
       "    <tr>\n",
       "      <th>103</th>\n",
       "      <td>The Royal Mint</td>\n",
       "      <td>886</td>\n",
       "      <td>CAT12</td>\n",
       "      <td>GBR</td>\n",
       "    </tr>\n",
       "  </tbody>\n",
       "</table>\n",
       "</div>"
      ],
      "text/plain": [
       "                        business  year_founded category_code country_code\n",
       "64                    Kongō Gumi           578          CAT6          JPN\n",
       "94   St. Peter Stifts Kulinarium           803          CAT4          AUT\n",
       "107        Staffelter Hof Winery           862          CAT9          DEU\n",
       "106            Monnaie de Paris            864         CAT12          FRA\n",
       "103               The Royal Mint           886         CAT12          GBR"
      ]
     },
     "execution_count": 2,
     "metadata": {},
     "output_type": "execute_result"
    }
   ],
   "source": [
    "# Concatenate two businesses and new_businesses\n",
    "all_businesses = pd.concat([businesses, new_businesses])\n",
    "\n",
    "# Sort businesses from oldest businesses to youngest\n",
    "sorted_businesses = all_businesses.sort_values('year_founded')\n",
    "\n",
    "# Display the first few lines of sorted_businesses\n",
    "sorted_businesses.head()"
   ]
  },
  {
   "cell_type": "markdown",
   "id": "d00a9182",
   "metadata": {
    "papermill": {
     "duration": 0.012023,
     "end_time": "2022-02-10T10:31:16.224504",
     "exception": false,
     "start_time": "2022-02-10T10:31:16.212481",
     "status": "completed"
    },
    "tags": []
   },
   "source": [
    "# 2. The Oldest Businesses in North America\n",
    "\n",
    "So far we've learned that Kongō Gumi is the world's oldest continuously operating business, beating out the second oldest business by well over 100 years! It's a little hard to read the country codes, though. Wouldn't it be nice if we had a list of country names to go along with the country codes?\n",
    "\n",
    "Having useful information in different files is a common problem: for data storage, it's better to keep different types of data separate, but for analysis, we want all the data in one place. To solve this, we'll have to join the two tables together."
   ]
  },
  {
   "cell_type": "code",
   "execution_count": 3,
   "id": "789936cb",
   "metadata": {
    "execution": {
     "iopub.execute_input": "2022-02-10T10:31:16.262213Z",
     "iopub.status.busy": "2022-02-10T10:31:16.261612Z",
     "iopub.status.idle": "2022-02-10T10:31:16.279536Z",
     "shell.execute_reply": "2022-02-10T10:31:16.279053Z",
     "shell.execute_reply.started": "2022-02-10T09:32:32.476024Z"
    },
    "papermill": {
     "duration": 0.042684,
     "end_time": "2022-02-10T10:31:16.279669",
     "exception": false,
     "start_time": "2022-02-10T10:31:16.236985",
     "status": "completed"
    },
    "tags": []
   },
   "outputs": [
    {
     "data": {
      "text/html": [
       "<div>\n",
       "<style scoped>\n",
       "    .dataframe tbody tr th:only-of-type {\n",
       "        vertical-align: middle;\n",
       "    }\n",
       "\n",
       "    .dataframe tbody tr th {\n",
       "        vertical-align: top;\n",
       "    }\n",
       "\n",
       "    .dataframe thead th {\n",
       "        text-align: right;\n",
       "    }\n",
       "</style>\n",
       "<table border=\"1\" class=\"dataframe\">\n",
       "  <thead>\n",
       "    <tr style=\"text-align: right;\">\n",
       "      <th></th>\n",
       "      <th>business</th>\n",
       "      <th>year_founded</th>\n",
       "      <th>category_code</th>\n",
       "      <th>country_code</th>\n",
       "      <th>country</th>\n",
       "      <th>continent</th>\n",
       "    </tr>\n",
       "  </thead>\n",
       "  <tbody>\n",
       "    <tr>\n",
       "      <th>22</th>\n",
       "      <td>La Casa de Moneda de México</td>\n",
       "      <td>1534</td>\n",
       "      <td>CAT12</td>\n",
       "      <td>MEX</td>\n",
       "      <td>Mexico</td>\n",
       "      <td>North America</td>\n",
       "    </tr>\n",
       "    <tr>\n",
       "      <th>28</th>\n",
       "      <td>Shirley Plantation</td>\n",
       "      <td>1638</td>\n",
       "      <td>CAT1</td>\n",
       "      <td>USA</td>\n",
       "      <td>United States</td>\n",
       "      <td>North America</td>\n",
       "    </tr>\n",
       "    <tr>\n",
       "      <th>33</th>\n",
       "      <td>Hudson's Bay Company</td>\n",
       "      <td>1670</td>\n",
       "      <td>CAT17</td>\n",
       "      <td>CAN</td>\n",
       "      <td>Canada</td>\n",
       "      <td>North America</td>\n",
       "    </tr>\n",
       "    <tr>\n",
       "      <th>35</th>\n",
       "      <td>Mount Gay Rum</td>\n",
       "      <td>1703</td>\n",
       "      <td>CAT9</td>\n",
       "      <td>BRB</td>\n",
       "      <td>Barbados</td>\n",
       "      <td>North America</td>\n",
       "    </tr>\n",
       "    <tr>\n",
       "      <th>40</th>\n",
       "      <td>Rose Hall</td>\n",
       "      <td>1770</td>\n",
       "      <td>CAT19</td>\n",
       "      <td>JAM</td>\n",
       "      <td>Jamaica</td>\n",
       "      <td>North America</td>\n",
       "    </tr>\n",
       "  </tbody>\n",
       "</table>\n",
       "</div>"
      ],
      "text/plain": [
       "                       business  year_founded category_code country_code  \\\n",
       "22  La Casa de Moneda de México          1534         CAT12          MEX   \n",
       "28           Shirley Plantation          1638          CAT1          USA   \n",
       "33         Hudson's Bay Company          1670         CAT17          CAN   \n",
       "35                Mount Gay Rum          1703          CAT9          BRB   \n",
       "40                    Rose Hall          1770         CAT19          JAM   \n",
       "\n",
       "          country      continent  \n",
       "22         Mexico  North America  \n",
       "28  United States  North America  \n",
       "33         Canada  North America  \n",
       "35       Barbados  North America  \n",
       "40        Jamaica  North America  "
      ]
     },
     "execution_count": 3,
     "metadata": {},
     "output_type": "execute_result"
    }
   ],
   "source": [
    "# Merge sorted_businesses with countries\n",
    "businesses_countries = sorted_businesses.merge(countries, on='country_code')\n",
    "\n",
    "# Filter businesses_countries to include countries in North America only\n",
    "north_america = businesses_countries.query('continent == \"North America\"')\n",
    "north_america.head()"
   ]
  },
  {
   "cell_type": "markdown",
   "id": "078c9d49",
   "metadata": {
    "papermill": {
     "duration": 0.013577,
     "end_time": "2022-02-10T10:31:16.306148",
     "exception": false,
     "start_time": "2022-02-10T10:31:16.292571",
     "status": "completed"
    },
    "tags": []
   },
   "source": [
    "# 3. The Oldest Business on each Continents\n",
    "Now we can see that the oldest company in North America is La Casa de Moneda de México, founded in 1534. Why stop there, though, when we could easily find out the oldest business on every continent?"
   ]
  },
  {
   "cell_type": "code",
   "execution_count": 4,
   "id": "ae4a240b",
   "metadata": {
    "execution": {
     "iopub.execute_input": "2022-02-10T10:31:16.338542Z",
     "iopub.status.busy": "2022-02-10T10:31:16.338009Z",
     "iopub.status.idle": "2022-02-10T10:31:16.351385Z",
     "shell.execute_reply": "2022-02-10T10:31:16.351749Z",
     "shell.execute_reply.started": "2022-02-10T10:08:05.278234Z"
    },
    "papermill": {
     "duration": 0.032601,
     "end_time": "2022-02-10T10:31:16.351881",
     "exception": false,
     "start_time": "2022-02-10T10:31:16.319280",
     "status": "completed"
    },
    "tags": []
   },
   "outputs": [
    {
     "data": {
      "text/html": [
       "<div>\n",
       "<style scoped>\n",
       "    .dataframe tbody tr th:only-of-type {\n",
       "        vertical-align: middle;\n",
       "    }\n",
       "\n",
       "    .dataframe tbody tr th {\n",
       "        vertical-align: top;\n",
       "    }\n",
       "\n",
       "    .dataframe thead th {\n",
       "        text-align: right;\n",
       "    }\n",
       "</style>\n",
       "<table border=\"1\" class=\"dataframe\">\n",
       "  <thead>\n",
       "    <tr style=\"text-align: right;\">\n",
       "      <th></th>\n",
       "      <th>continent</th>\n",
       "      <th>country</th>\n",
       "      <th>business</th>\n",
       "      <th>year_founded</th>\n",
       "    </tr>\n",
       "  </thead>\n",
       "  <tbody>\n",
       "    <tr>\n",
       "      <th>0</th>\n",
       "      <td>Africa</td>\n",
       "      <td>Mauritius</td>\n",
       "      <td>Mauritius Post</td>\n",
       "      <td>1772</td>\n",
       "    </tr>\n",
       "    <tr>\n",
       "      <th>1</th>\n",
       "      <td>Asia</td>\n",
       "      <td>Japan</td>\n",
       "      <td>Kongō Gumi</td>\n",
       "      <td>578</td>\n",
       "    </tr>\n",
       "    <tr>\n",
       "      <th>2</th>\n",
       "      <td>Europe</td>\n",
       "      <td>Austria</td>\n",
       "      <td>St. Peter Stifts Kulinarium</td>\n",
       "      <td>803</td>\n",
       "    </tr>\n",
       "    <tr>\n",
       "      <th>3</th>\n",
       "      <td>North America</td>\n",
       "      <td>Mexico</td>\n",
       "      <td>La Casa de Moneda de México</td>\n",
       "      <td>1534</td>\n",
       "    </tr>\n",
       "    <tr>\n",
       "      <th>4</th>\n",
       "      <td>Oceania</td>\n",
       "      <td>Australia</td>\n",
       "      <td>Australia Post</td>\n",
       "      <td>1809</td>\n",
       "    </tr>\n",
       "    <tr>\n",
       "      <th>5</th>\n",
       "      <td>South America</td>\n",
       "      <td>Peru</td>\n",
       "      <td>Casa Nacional de Moneda</td>\n",
       "      <td>1565</td>\n",
       "    </tr>\n",
       "  </tbody>\n",
       "</table>\n",
       "</div>"
      ],
      "text/plain": [
       "       continent    country                     business  year_founded\n",
       "0         Africa  Mauritius               Mauritius Post          1772\n",
       "1           Asia      Japan                   Kongō Gumi           578\n",
       "2         Europe    Austria  St. Peter Stifts Kulinarium           803\n",
       "3  North America     Mexico  La Casa de Moneda de México          1534\n",
       "4        Oceania  Australia               Australia Post          1809\n",
       "5  South America       Peru      Casa Nacional de Moneda          1565"
      ]
     },
     "execution_count": 4,
     "metadata": {},
     "output_type": "execute_result"
    }
   ],
   "source": [
    "# Create continent, which lists only the continent and oldest year_founded\n",
    "continent = businesses_countries.groupby('continent').agg({'year_founded':'min'})\n",
    "\n",
    "# Merge continent with businesses_countries\n",
    "merged_continent = continent.merge(businesses_countries, on='year_founded')\n",
    "\n",
    "# Subset continent so that only the four columns of interest are included\n",
    "subset_merged_continent = merged_continent[['continent', 'country', 'business', 'year_founded']]\n",
    "subset_merged_continent"
   ]
  },
  {
   "cell_type": "markdown",
   "id": "3f5d3932",
   "metadata": {
    "papermill": {
     "duration": 0.013184,
     "end_time": "2022-02-10T10:31:16.378200",
     "exception": false,
     "start_time": "2022-02-10T10:31:16.365016",
     "status": "completed"
    },
    "tags": []
   },
   "source": [
    "# 4. Unknown oldest businesses\n",
    "BusinessFinancing.co.uk wasn't able to determine the oldest business for some countries, and those countries are simply left off. However, the countries that we created does include all countries in the world, regardless of whether the oldest business is known.\n",
    "\n",
    "We can compare the two datasets in one DataFrame to find out which countries don't have a known oldest business!"
   ]
  },
  {
   "cell_type": "code",
   "execution_count": 5,
   "id": "9cb0ff82",
   "metadata": {
    "execution": {
     "iopub.execute_input": "2022-02-10T10:31:16.407653Z",
     "iopub.status.busy": "2022-02-10T10:31:16.407210Z",
     "iopub.status.idle": "2022-02-10T10:31:16.422934Z",
     "shell.execute_reply": "2022-02-10T10:31:16.423400Z",
     "shell.execute_reply.started": "2022-02-10T10:13:28.810841Z"
    },
    "papermill": {
     "duration": 0.032299,
     "end_time": "2022-02-10T10:31:16.423533",
     "exception": false,
     "start_time": "2022-02-10T10:31:16.391234",
     "status": "completed"
    },
    "tags": []
   },
   "outputs": [
    {
     "name": "stdout",
     "output_type": "stream",
     "text": [
      "1                                Angola\n",
      "7                   Antigua and Barbuda\n",
      "18                              Bahamas\n",
      "50                              Ecuador\n",
      "59      Micronesia, Federated States of\n",
      "63                                Ghana\n",
      "65                               Gambia\n",
      "69                              Grenada\n",
      "79            Iran, Islamic Republic of\n",
      "89                           Kyrgyzstan\n",
      "91                             Kiribati\n",
      "92                Saint Kitts and Nevis\n",
      "107                              Monaco\n",
      "108                Moldova, Republic of\n",
      "110                            Maldives\n",
      "112                    Marshall Islands\n",
      "131                               Nauru\n",
      "138                               Palau\n",
      "139                    Papua New Guinea\n",
      "143                            Paraguay\n",
      "144                 Palestine, State of\n",
      "153                     Solomon Islands\n",
      "160                            Suriname\n",
      "170                          Tajikistan\n",
      "171                        Turkmenistan\n",
      "172                         Timor-Leste\n",
      "173                               Tonga\n",
      "177                              Tuvalu\n",
      "185    Saint Vincent and the Grenadines\n",
      "189                               Samoa\n",
      "Name: country, dtype: object\n"
     ]
    }
   ],
   "source": [
    "# Use .merge() to create a DataFrame, all_countries\n",
    "all_countries = all_businesses.merge(countries, on='country_code', how='right', indicator=True)\n",
    "\n",
    "# Filter to include only countries without oldest businesses\n",
    "missing_countries = all_countries[all_countries['_merge'] != 'both']\n",
    "\n",
    "# Create a series of the country names with missing oldest business data\n",
    "missing_countries_series = missing_countries['country']\n",
    "\n",
    "# Display the series\n",
    "print(missing_countries_series)"
   ]
  },
  {
   "cell_type": "markdown",
   "id": "94985235",
   "metadata": {
    "papermill": {
     "duration": 0.014441,
     "end_time": "2022-02-10T10:31:16.451280",
     "exception": false,
     "start_time": "2022-02-10T10:31:16.436839",
     "status": "completed"
    },
    "tags": []
   },
   "source": [
    "# 5. Count Missing Countries in each Continent\n",
    "It looks like we've got some holes in our dataset! Let's find out how many countries in each continent is missing the oldest."
   ]
  },
  {
   "cell_type": "code",
   "execution_count": 6,
   "id": "d3a394bd",
   "metadata": {
    "execution": {
     "iopub.execute_input": "2022-02-10T10:31:16.482555Z",
     "iopub.status.busy": "2022-02-10T10:31:16.482013Z",
     "iopub.status.idle": "2022-02-10T10:31:16.490931Z",
     "shell.execute_reply": "2022-02-10T10:31:16.491415Z",
     "shell.execute_reply.started": "2022-02-10T10:18:06.255294Z"
    },
    "papermill": {
     "duration": 0.026129,
     "end_time": "2022-02-10T10:31:16.491554",
     "exception": false,
     "start_time": "2022-02-10T10:31:16.465425",
     "status": "completed"
    },
    "tags": []
   },
   "outputs": [
    {
     "data": {
      "text/html": [
       "<div>\n",
       "<style scoped>\n",
       "    .dataframe tbody tr th:only-of-type {\n",
       "        vertical-align: middle;\n",
       "    }\n",
       "\n",
       "    .dataframe tbody tr th {\n",
       "        vertical-align: top;\n",
       "    }\n",
       "\n",
       "    .dataframe thead th {\n",
       "        text-align: right;\n",
       "    }\n",
       "</style>\n",
       "<table border=\"1\" class=\"dataframe\">\n",
       "  <thead>\n",
       "    <tr style=\"text-align: right;\">\n",
       "      <th></th>\n",
       "      <th>count_missing</th>\n",
       "    </tr>\n",
       "    <tr>\n",
       "      <th>continent</th>\n",
       "      <th></th>\n",
       "    </tr>\n",
       "  </thead>\n",
       "  <tbody>\n",
       "    <tr>\n",
       "      <th>Oceania</th>\n",
       "      <td>10</td>\n",
       "    </tr>\n",
       "    <tr>\n",
       "      <th>Asia</th>\n",
       "      <td>7</td>\n",
       "    </tr>\n",
       "    <tr>\n",
       "      <th>North America</th>\n",
       "      <td>5</td>\n",
       "    </tr>\n",
       "    <tr>\n",
       "      <th>Africa</th>\n",
       "      <td>3</td>\n",
       "    </tr>\n",
       "    <tr>\n",
       "      <th>South America</th>\n",
       "      <td>3</td>\n",
       "    </tr>\n",
       "    <tr>\n",
       "      <th>Europe</th>\n",
       "      <td>2</td>\n",
       "    </tr>\n",
       "  </tbody>\n",
       "</table>\n",
       "</div>"
      ],
      "text/plain": [
       "               count_missing\n",
       "continent                   \n",
       "Oceania                   10\n",
       "Asia                       7\n",
       "North America              5\n",
       "Africa                     3\n",
       "South America              3\n",
       "Europe                     2"
      ]
     },
     "execution_count": 6,
     "metadata": {},
     "output_type": "execute_result"
    }
   ],
   "source": [
    "# Group by continent and create a \"count_missing\" column\n",
    "count_missing = missing_countries.groupby('continent')[['country']].agg('count')\n",
    "\n",
    "# Change column name to count_missing \n",
    "count_missing.columns = ['count_missing']\n",
    "\n",
    "# Sort for the continent with most missing data\n",
    "count_missing.sort_values('count_missing', ascending = False)"
   ]
  },
  {
   "cell_type": "markdown",
   "id": "718665b4",
   "metadata": {
    "papermill": {
     "duration": 0.013258,
     "end_time": "2022-02-10T10:31:16.518498",
     "exception": false,
     "start_time": "2022-02-10T10:31:16.505240",
     "status": "completed"
    },
    "tags": []
   },
   "source": [
    "# 6. The Oldest Industries\n",
    "Remember our oldest business in the world, Kongō Gumi?\n",
    "\n",
    "We know Kongō Gumi was founded in the year 578 in Japan, but it's a little hard to decipher which industry it's in.\n",
    "\n",
    "Let's use categories to understand how many oldest businesses are in each category of industry."
   ]
  },
  {
   "cell_type": "code",
   "execution_count": 7,
   "id": "54432a70",
   "metadata": {
    "execution": {
     "iopub.execute_input": "2022-02-10T10:31:16.552305Z",
     "iopub.status.busy": "2022-02-10T10:31:16.551805Z",
     "iopub.status.idle": "2022-02-10T10:31:16.562681Z",
     "shell.execute_reply": "2022-02-10T10:31:16.563041Z",
     "shell.execute_reply.started": "2022-02-10T10:24:50.848999Z"
    },
    "papermill": {
     "duration": 0.030685,
     "end_time": "2022-02-10T10:31:16.563201",
     "exception": false,
     "start_time": "2022-02-10T10:31:16.532516",
     "status": "completed"
    },
    "tags": []
   },
   "outputs": [
    {
     "data": {
      "text/html": [
       "<div>\n",
       "<style scoped>\n",
       "    .dataframe tbody tr th:only-of-type {\n",
       "        vertical-align: middle;\n",
       "    }\n",
       "\n",
       "    .dataframe tbody tr th {\n",
       "        vertical-align: top;\n",
       "    }\n",
       "\n",
       "    .dataframe thead th {\n",
       "        text-align: right;\n",
       "    }\n",
       "</style>\n",
       "<table border=\"1\" class=\"dataframe\">\n",
       "  <thead>\n",
       "    <tr style=\"text-align: right;\">\n",
       "      <th></th>\n",
       "      <th>count</th>\n",
       "    </tr>\n",
       "    <tr>\n",
       "      <th>category</th>\n",
       "      <th></th>\n",
       "    </tr>\n",
       "  </thead>\n",
       "  <tbody>\n",
       "    <tr>\n",
       "      <th>Banking &amp; Finance</th>\n",
       "      <td>37</td>\n",
       "    </tr>\n",
       "    <tr>\n",
       "      <th>Distillers, Vintners, &amp; Breweries</th>\n",
       "      <td>23</td>\n",
       "    </tr>\n",
       "    <tr>\n",
       "      <th>Aviation &amp; Transport</th>\n",
       "      <td>19</td>\n",
       "    </tr>\n",
       "    <tr>\n",
       "      <th>Postal Service</th>\n",
       "      <td>16</td>\n",
       "    </tr>\n",
       "    <tr>\n",
       "      <th>Manufacturing &amp; Production</th>\n",
       "      <td>15</td>\n",
       "    </tr>\n",
       "  </tbody>\n",
       "</table>\n",
       "</div>"
      ],
      "text/plain": [
       "                                   count\n",
       "category                                \n",
       "Banking & Finance                     37\n",
       "Distillers, Vintners, & Breweries     23\n",
       "Aviation & Transport                  19\n",
       "Postal Service                        16\n",
       "Manufacturing & Production            15"
      ]
     },
     "metadata": {},
     "output_type": "display_data"
    }
   ],
   "source": [
    "# Merge to businesses and Categories\n",
    "businesses_categories = all_businesses.merge(categories, on='category_code')\n",
    "\n",
    "# Create a DataFrame which lists the number of oldest businesses in each category\n",
    "count_business_cats = businesses_categories.groupby('category')[['business']].agg('count')\n",
    "\n",
    "# Rename columns and display the first five rows of both DataFrames\n",
    "count_business_cats.columns = ['count']\n",
    "\n",
    "display(count_business_cats.sort_values('count', ascending = False).head())"
   ]
  },
  {
   "cell_type": "markdown",
   "id": "1e16dbbb",
   "metadata": {
    "papermill": {
     "duration": 0.013877,
     "end_time": "2022-02-10T10:31:16.591218",
     "exception": false,
     "start_time": "2022-02-10T10:31:16.577341",
     "status": "completed"
    },
    "tags": []
   },
   "source": [
    "# 7. Restaurant Representation\n",
    "No matter how we measure it, looks like Banking and Finance is an excellent industry to be in if longevity is our goal! Let's zoom in on another industry: cafés, restaurants, and bars. Which restaurants in our dataset have been around since before the year 1800?"
   ]
  },
  {
   "cell_type": "code",
   "execution_count": 8,
   "id": "9f2ac0a5",
   "metadata": {
    "execution": {
     "iopub.execute_input": "2022-02-10T10:31:16.622741Z",
     "iopub.status.busy": "2022-02-10T10:31:16.622155Z",
     "iopub.status.idle": "2022-02-10T10:31:16.633572Z",
     "shell.execute_reply": "2022-02-10T10:31:16.633960Z",
     "shell.execute_reply.started": "2022-02-10T09:50:10.000319Z"
    },
    "papermill": {
     "duration": 0.028951,
     "end_time": "2022-02-10T10:31:16.634094",
     "exception": false,
     "start_time": "2022-02-10T10:31:16.605143",
     "status": "completed"
    },
    "tags": []
   },
   "outputs": [
    {
     "data": {
      "text/html": [
       "<div>\n",
       "<style scoped>\n",
       "    .dataframe tbody tr th:only-of-type {\n",
       "        vertical-align: middle;\n",
       "    }\n",
       "\n",
       "    .dataframe tbody tr th {\n",
       "        vertical-align: top;\n",
       "    }\n",
       "\n",
       "    .dataframe thead th {\n",
       "        text-align: right;\n",
       "    }\n",
       "</style>\n",
       "<table border=\"1\" class=\"dataframe\">\n",
       "  <thead>\n",
       "    <tr style=\"text-align: right;\">\n",
       "      <th></th>\n",
       "      <th>business</th>\n",
       "      <th>year_founded</th>\n",
       "      <th>category_code</th>\n",
       "      <th>country_code</th>\n",
       "      <th>category</th>\n",
       "    </tr>\n",
       "  </thead>\n",
       "  <tbody>\n",
       "    <tr>\n",
       "      <th>144</th>\n",
       "      <td>St. Peter Stifts Kulinarium</td>\n",
       "      <td>803</td>\n",
       "      <td>CAT4</td>\n",
       "      <td>AUT</td>\n",
       "      <td>Cafés, Restaurants &amp; Bars</td>\n",
       "    </tr>\n",
       "    <tr>\n",
       "      <th>145</th>\n",
       "      <td>Sean's Bar</td>\n",
       "      <td>900</td>\n",
       "      <td>CAT4</td>\n",
       "      <td>IRL</td>\n",
       "      <td>Cafés, Restaurants &amp; Bars</td>\n",
       "    </tr>\n",
       "    <tr>\n",
       "      <th>141</th>\n",
       "      <td>Ma Yu Ching's Bucket Chicken House</td>\n",
       "      <td>1153</td>\n",
       "      <td>CAT4</td>\n",
       "      <td>CHN</td>\n",
       "      <td>Cafés, Restaurants &amp; Bars</td>\n",
       "    </tr>\n",
       "  </tbody>\n",
       "</table>\n",
       "</div>"
      ],
      "text/plain": [
       "                               business  year_founded category_code  \\\n",
       "144         St. Peter Stifts Kulinarium           803          CAT4   \n",
       "145                          Sean's Bar           900          CAT4   \n",
       "141  Ma Yu Ching's Bucket Chicken House          1153          CAT4   \n",
       "\n",
       "    country_code                   category  \n",
       "144          AUT  Cafés, Restaurants & Bars  \n",
       "145          IRL  Cafés, Restaurants & Bars  \n",
       "141          CHN  Cafés, Restaurants & Bars  "
      ]
     },
     "metadata": {},
     "output_type": "display_data"
    }
   ],
   "source": [
    "# Filter using .query() for CAT4 businesses founded before 1800; sort results\n",
    "old_restaurants = businesses_categories.query('year_founded < 1800 and category_code == \"CAT4\"')\n",
    "\n",
    "# Sort the DataFrame\n",
    "old_restaurants = old_restaurants.sort_values('year_founded')\n",
    "display(old_restaurants)"
   ]
  },
  {
   "cell_type": "markdown",
   "id": "91a42d61",
   "metadata": {
    "papermill": {
     "duration": 0.014548,
     "end_time": "2022-02-10T10:31:16.664201",
     "exception": false,
     "start_time": "2022-02-10T10:31:16.649653",
     "status": "completed"
    },
    "tags": []
   },
   "source": [
    "# 8. Oldest Industries\n",
    "St. Peter Stifts Kulinarium is old enough that the restaurant is believed to have served Mozart - and it would have been over 900 years old even when he was a patron! Let's finish by looking at the oldest business in each category of commerce for each continent."
   ]
  },
  {
   "cell_type": "code",
   "execution_count": 9,
   "id": "0228bcce",
   "metadata": {
    "execution": {
     "iopub.execute_input": "2022-02-10T10:31:16.702672Z",
     "iopub.status.busy": "2022-02-10T10:31:16.702012Z",
     "iopub.status.idle": "2022-02-10T10:31:16.711946Z",
     "shell.execute_reply": "2022-02-10T10:31:16.712463Z",
     "shell.execute_reply.started": "2022-02-10T10:30:00.349788Z"
    },
    "papermill": {
     "duration": 0.033771,
     "end_time": "2022-02-10T10:31:16.712597",
     "exception": false,
     "start_time": "2022-02-10T10:31:16.678826",
     "status": "completed"
    },
    "tags": []
   },
   "outputs": [
    {
     "data": {
      "text/html": [
       "<div>\n",
       "<style scoped>\n",
       "    .dataframe tbody tr th:only-of-type {\n",
       "        vertical-align: middle;\n",
       "    }\n",
       "\n",
       "    .dataframe tbody tr th {\n",
       "        vertical-align: top;\n",
       "    }\n",
       "\n",
       "    .dataframe thead th {\n",
       "        text-align: right;\n",
       "    }\n",
       "</style>\n",
       "<table border=\"1\" class=\"dataframe\">\n",
       "  <thead>\n",
       "    <tr style=\"text-align: right;\">\n",
       "      <th></th>\n",
       "      <th>year_founded</th>\n",
       "    </tr>\n",
       "    <tr>\n",
       "      <th>category</th>\n",
       "      <th></th>\n",
       "    </tr>\n",
       "  </thead>\n",
       "  <tbody>\n",
       "    <tr>\n",
       "      <th>Construction</th>\n",
       "      <td>578</td>\n",
       "    </tr>\n",
       "    <tr>\n",
       "      <th>Cafés, Restaurants &amp; Bars</th>\n",
       "      <td>803</td>\n",
       "    </tr>\n",
       "    <tr>\n",
       "      <th>Distillers, Vintners, &amp; Breweries</th>\n",
       "      <td>862</td>\n",
       "    </tr>\n",
       "    <tr>\n",
       "      <th>Manufacturing &amp; Production</th>\n",
       "      <td>864</td>\n",
       "    </tr>\n",
       "    <tr>\n",
       "      <th>Agriculture</th>\n",
       "      <td>1218</td>\n",
       "    </tr>\n",
       "  </tbody>\n",
       "</table>\n",
       "</div>"
      ],
      "text/plain": [
       "                                   year_founded\n",
       "category                                       \n",
       "Construction                                578\n",
       "Cafés, Restaurants & Bars                   803\n",
       "Distillers, Vintners, & Breweries           862\n",
       "Manufacturing & Production                  864\n",
       "Agriculture                                1218"
      ]
     },
     "metadata": {},
     "output_type": "display_data"
    }
   ],
   "source": [
    "# Merge all businesses, countries, and categories together\n",
    "businesses_categories_countries = businesses_categories.merge(countries, on='country_code')\n",
    "\n",
    "# Sort businesses_categories_countries from oldest to most recent\n",
    "businesses_categories_countries = businesses_categories_countries.sort_values('year_founded')\n",
    "\n",
    "# Create the oldest by continent and category DataFrame\n",
    "oldest_category = businesses_categories_countries.groupby('category')[['year_founded']].min().sort_values('year_founded')\n",
    "display(oldest_category.head())"
   ]
  },
  {
   "cell_type": "markdown",
   "id": "f9295b74",
   "metadata": {
    "papermill": {
     "duration": 0.019929,
     "end_time": "2022-02-10T10:31:16.749847",
     "exception": false,
     "start_time": "2022-02-10T10:31:16.729918",
     "status": "completed"
    },
    "tags": []
   },
   "source": [
    "\n"
   ]
  }
 ],
 "metadata": {
  "kernelspec": {
   "display_name": "Python 3",
   "language": "python",
   "name": "python3"
  },
  "language_info": {
   "codemirror_mode": {
    "name": "ipython",
    "version": 3
   },
   "file_extension": ".py",
   "mimetype": "text/x-python",
   "name": "python",
   "nbconvert_exporter": "python",
   "pygments_lexer": "ipython3",
   "version": "3.7.12"
  },
  "papermill": {
   "default_parameters": {},
   "duration": 10.128115,
   "end_time": "2022-02-10T10:31:17.479061",
   "environment_variables": {},
   "exception": null,
   "input_path": "__notebook__.ipynb",
   "output_path": "__notebook__.ipynb",
   "parameters": {},
   "start_time": "2022-02-10T10:31:07.350946",
   "version": "2.3.3"
  }
 },
 "nbformat": 4,
 "nbformat_minor": 5
}
